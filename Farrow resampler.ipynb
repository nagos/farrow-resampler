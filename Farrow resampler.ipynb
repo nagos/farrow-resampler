{
 "cells": [
  {
   "cell_type": "markdown",
   "metadata": {},
   "source": [
    "# Farrow resampler\n",
    "\n",
    "Based on:\n",
    "https://www.dsprelated.com/showarticle/149.php"
   ]
  },
  {
   "cell_type": "code",
   "execution_count": 1,
   "metadata": {
    "collapsed": true
   },
   "outputs": [],
   "source": [
    "import numpy as np\n",
    "import pylab as plt\n",
    "from scipy.signal import firwin\n",
    "from utils import *\n",
    "%matplotlib inline\n",
    "np.set_printoptions(precision=4)"
   ]
  },
  {
   "cell_type": "code",
   "execution_count": 2,
   "metadata": {
    "collapsed": true
   },
   "outputs": [],
   "source": [
    "# test signal\n",
    "FREQ = 5\n",
    "N1 = 32\n",
    "N2 = 50\n",
    "x = np.arange(0, N1)\n",
    "y = np.sin(x*2*np.pi/(N1/FREQ))"
   ]
  },
  {
   "cell_type": "code",
   "execution_count": 3,
   "metadata": {
    "collapsed": true
   },
   "outputs": [],
   "source": [
    "cMatrix = [\n",
    "0.000045, -0.000936,  0.004049, -0.011926,  0.029106, -0.066340,  0.180800,  0.952919, -0.122473,  0.050329, -0.021920,  0.008548, -0.002638,  0.000476, \n",
    " 0.000164, -0.008294,  0.034886, -0.100099,  0.237076, -0.499944,  1.288540, -0.558971, -0.574282,  0.260273, -0.110664,  0.039675, -0.010165,  0.000669, \n",
    " 0.004461, -0.000724, -0.024895,  0.100726, -0.258546,  0.376681,  0.446216, -1.663592,  1.469000, -0.649437,  0.283180, -0.107185,  0.030675, -0.003629, \n",
    "-0.005606,  0.014003, -0.025966,  0.040406, -0.073976,  0.370403, -0.962637,  1.147171, -0.721917,  0.316915, -0.142048,  0.056324, -0.017396,  0.002484,  \n",
    "]\n",
    "NTAPS = 14\n",
    "ORDER = 3"
   ]
  },
  {
   "cell_type": "code",
   "execution_count": 4,
   "metadata": {
    "collapsed": true
   },
   "outputs": [],
   "source": [
    "def c(ixTap, ixPower):\n",
    "    return cMatrix[ixPower * (NTAPS) + ixTap]"
   ]
  },
  {
   "cell_type": "code",
   "execution_count": 5,
   "metadata": {
    "collapsed": true
   },
   "outputs": [],
   "source": [
    "audio_delay_line = np.zeros(NTAPS)\n",
    "delay_line_sample = 0"
   ]
  },
  {
   "cell_type": "code",
   "execution_count": 6,
   "metadata": {
    "collapsed": true
   },
   "outputs": [],
   "source": [
    "def get_imp(tap, frac):\n",
    "    horner_sum = c(tap, ORDER)\n",
    "    for i in range(ORDER-1, -1, -1,):\n",
    "        horner_sum *= frac\n",
    "        horner_sum += c(tap, i)\n",
    "    return horner_sum"
   ]
  },
  {
   "cell_type": "code",
   "execution_count": 7,
   "metadata": {
    "collapsed": true
   },
   "outputs": [],
   "source": [
    "def get_c(frac):\n",
    "    return [get_imp(i, frac) for i in range(NTAPS)]"
   ]
  },
  {
   "cell_type": "code",
   "execution_count": 8,
   "metadata": {
    "collapsed": true
   },
   "outputs": [],
   "source": [
    "def process_sample(frac):\n",
    "    fir_c = get_c(frac)\n",
    "    v = np.sum(audio_delay_line*fir_c)\n",
    "    return v"
   ]
  },
  {
   "cell_type": "code",
   "execution_count": 9,
   "metadata": {
    "collapsed": true
   },
   "outputs": [],
   "source": [
    "x_out = np.arange(0, N1, N1/N2)"
   ]
  },
  {
   "cell_type": "code",
   "execution_count": 10,
   "metadata": {
    "collapsed": true
   },
   "outputs": [],
   "source": [
    "y_out = np.array([])\n",
    "for i in range(N2):\n",
    "    while(x[delay_line_sample] < np.floor(x_out[i])):\n",
    "        audio_delay_line = np.roll(audio_delay_line, 1)\n",
    "        audio_delay_line[0] = y[int(x_out[i])]\n",
    "        delay_line_sample += 1\n",
    "    v = process_sample(x_out[i] % 1)\n",
    "    y_out = np.append(y_out, v)\n",
    "# delay compensation\n",
    "x_out = x_out - (NTAPS-1)"
   ]
  },
  {
   "cell_type": "code",
   "execution_count": 11,
   "metadata": {
    "collapsed": true
   },
   "outputs": [],
   "source": [
    "x_ideal = np.arange(0, N1, 1/1000)\n",
    "y_ideal = np.sin(x_ideal*2*np.pi/(N1/FREQ))"
   ]
  },
  {
   "cell_type": "code",
   "execution_count": 12,
   "metadata": {},
   "outputs": [
    {
     "data": {
      "image/png": "[encoded data removed]",
      "text/plain": [
       "<matplotlib.figure.Figure at 0x7f27c95afbe0>"
      ]
     },
     "metadata": {},
     "output_type": "display_data"
    }
   ],
   "source": [
    "plt.plot(x_ideal, y_ideal, label=\"ideal\")\n",
    "plt.plot(x, y, 'o', label=\"sampled\")\n",
    "plt.plot(x_out, y_out, '.', label=\"Farrow\")\n",
    "plt.grid()\n",
    "plt.xlim(0, 15)\n",
    "plt.legend()\n",
    "plt.show()"
   ]
  }
 ],
 "metadata": {
  "kernelspec": {
   "display_name": "Python 3",
   "language": "python",
   "name": "python3"
  },
  "language_info": {
   "codemirror_mode": {
    "name": "ipython",
    "version": 3
   },
   "file_extension": ".py",
   "mimetype": "text/x-python",
   "name": "python",
   "nbconvert_exporter": "python",
   "pygments_lexer": "ipython3",
   "version": "3.6.3"
  }
 },
 "nbformat": 4,
 "nbformat_minor": 2
}
