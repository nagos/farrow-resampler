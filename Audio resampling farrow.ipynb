{
 "cells": [
  {
   "cell_type": "code",
   "execution_count": null,
   "metadata": {
    "collapsed": true
   },
   "outputs": [],
   "source": [
    "import wave\n",
    "import numpy as np\n",
    "import pylab as plt\n",
    "from scipy.signal import firwin\n",
    "%matplotlib inline\n",
    "np.set_printoptions(precision=4)"
   ]
  },
  {
   "cell_type": "code",
   "execution_count": null,
   "metadata": {
    "collapsed": true
   },
   "outputs": [],
   "source": [
    "cMatrix = [\n",
    " 0.000045, -0.000936,  0.004049, -0.011926,  0.029106, -0.066340,  0.180800,  0.952919, -0.122473,  0.050329, -0.021920,  0.008548, -0.002638,  0.000476, \n",
    " 0.000164, -0.008294,  0.034886, -0.100099,  0.237076, -0.499944,  1.288540, -0.558971, -0.574282,  0.260273, -0.110664,  0.039675, -0.010165,  0.000669, \n",
    " 0.004461, -0.000724, -0.024895,  0.100726, -0.258546,  0.376681,  0.446216, -1.663592,  1.469000, -0.649437,  0.283180, -0.107185,  0.030675, -0.003629, \n",
    "-0.005606,  0.014003, -0.025966,  0.040406, -0.073976,  0.370403, -0.962637,  1.147171, -0.721917,  0.316915, -0.142048,  0.056324, -0.017396,  0.002484,  \n",
    "]\n",
    "NTAPS = 14\n",
    "ORDER = 3"
   ]
  },
  {
   "cell_type": "code",
   "execution_count": null,
   "metadata": {
    "collapsed": true
   },
   "outputs": [],
   "source": [
    "def sample_to_int(data):\n",
    "        d = int.from_bytes(data, byteorder='little', signed=True)\n",
    "        return d\n",
    "\n",
    "def int_to_sample(data):\n",
    "        d = int(data)\n",
    "        if(d>32765):\n",
    "            d = 32765\n",
    "        if(d<-32765):\n",
    "            d = -32765\n",
    "        return d.to_bytes(2, byteorder='little', signed=True)"
   ]
  },
  {
   "cell_type": "code",
   "execution_count": null,
   "metadata": {
    "collapsed": true
   },
   "outputs": [],
   "source": [
    "out_sample = 0\n",
    "sample_inc = 1.001"
   ]
  },
  {
   "cell_type": "code",
   "execution_count": null,
   "metadata": {
    "collapsed": true
   },
   "outputs": [],
   "source": [
    "fname = \"sine.wav\"\n",
    "f = wave.open(fname, 'rb')\n",
    "\n",
    "f_out = wave.open(\"wave_out.wav\", \"wb\")\n",
    "f_out.setframerate(48000)\n",
    "f_out.setsampwidth(2)\n",
    "f_out.setnchannels(1)"
   ]
  },
  {
   "cell_type": "code",
   "execution_count": null,
   "metadata": {
    "collapsed": true
   },
   "outputs": [],
   "source": [
    "audio_delay_line = np.zeros(NTAPS)\n",
    "delay_line_sample = -NTAPS"
   ]
  },
  {
   "cell_type": "code",
   "execution_count": null,
   "metadata": {
    "collapsed": true
   },
   "outputs": [],
   "source": [
    "def c(ixTap, ixPower):\n",
    "    return cMatrix[ixPower * (NTAPS) + ixTap]"
   ]
  },
  {
   "cell_type": "code",
   "execution_count": null,
   "metadata": {
    "collapsed": true
   },
   "outputs": [],
   "source": [
    "def get_imp(tap, frac):\n",
    "    horner_sum = c(tap, ORDER)\n",
    "    for i in range(ORDER-1, -1, -1,):\n",
    "        horner_sum *= frac\n",
    "        horner_sum += c(tap, i)\n",
    "    return horner_sum"
   ]
  },
  {
   "cell_type": "code",
   "execution_count": null,
   "metadata": {
    "collapsed": true
   },
   "outputs": [],
   "source": [
    "def get_c(frac):\n",
    "    return [get_imp(i, frac) for i in range(NTAPS)]"
   ]
  },
  {
   "cell_type": "code",
   "execution_count": null,
   "metadata": {
    "collapsed": true
   },
   "outputs": [],
   "source": [
    "def process_sample(frac):\n",
    "    fir_c = get_c(frac)\n",
    "    v = np.sum(audio_delay_line*fir_c)\n",
    "    return v"
   ]
  },
  {
   "cell_type": "code",
   "execution_count": null,
   "metadata": {
    "collapsed": true
   },
   "outputs": [],
   "source": [
    "while(True):\n",
    "    data = f.readframes(1)\n",
    "    audio_delay_line = np.roll(audio_delay_line, 1)\n",
    "    audio_delay_line[0] = sample_to_int(data)\n",
    "    delay_line_sample += 1\n",
    "    if(len(data)==0):\n",
    "        break\n",
    "    while(out_sample < delay_line_sample):\n",
    "        frac = out_sample % 1\n",
    "        v = process_sample(frac)\n",
    "        f_out.writeframes(int_to_sample(v))\n",
    "        out_sample += sample_inc"
   ]
  },
  {
   "cell_type": "code",
   "execution_count": null,
   "metadata": {
    "collapsed": true
   },
   "outputs": [],
   "source": [
    "f.close()\n",
    "f_out.close()"
   ]
  }
 ],
 "metadata": {
  "kernelspec": {
   "display_name": "Python 3",
   "language": "python",
   "name": "python3"
  },
  "language_info": {
   "codemirror_mode": {
    "name": "ipython",
    "version": 3
   },
   "file_extension": ".py",
   "mimetype": "text/x-python",
   "name": "python",
   "nbconvert_exporter": "python",
   "pygments_lexer": "ipython3",
   "version": "3.6.3"
  }
 },
 "nbformat": 4,
 "nbformat_minor": 2
}
