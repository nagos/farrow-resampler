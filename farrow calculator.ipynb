{
 "cells": [
  {
   "cell_type": "markdown",
   "metadata": {},
   "source": [
    "# Calculator for Farrow structure"
   ]
  },
  {
   "cell_type": "code",
   "execution_count": 1,
   "metadata": {
    "collapsed": true
   },
   "outputs": [],
   "source": [
    "import numpy as np\n",
    "from scipy.signal import firwin, freqz\n",
    "import pylab as plt\n",
    "from utils import *\n",
    "%matplotlib inline\n",
    "np.set_printoptions(precision=4)"
   ]
  },
  {
   "cell_type": "code",
   "execution_count": 2,
   "metadata": {
    "collapsed": true
   },
   "outputs": [],
   "source": [
    "TAPS = 14\n",
    "F_ORDER = 3"
   ]
  },
  {
   "cell_type": "code",
   "execution_count": 3,
   "metadata": {},
   "outputs": [],
   "source": [
    "taps = firwin(F_ORDER*(TAPS)+2, 1/(F_ORDER), window=\"blackman\")*F_ORDER"
   ]
  },
  {
   "cell_type": "code",
   "execution_count": 4,
   "metadata": {
    "collapsed": true
   },
   "outputs": [],
   "source": [
    "farrow_data = np.zeros((F_ORDER+1)*(TAPS))\n",
    "x = np.arange(0, 1+1/F_ORDER, 1/F_ORDER)\n",
    "for i in range(TAPS):\n",
    "    y = taps[1+i*F_ORDER : 1+i*F_ORDER+1+F_ORDER]\n",
    "    p = np.polyfit(x, y, F_ORDER)\n",
    "    for q in range(F_ORDER+1):\n",
    "        farrow_data[q*TAPS+i] = p[F_ORDER-q]"
   ]
  },
  {
   "cell_type": "code",
   "execution_count": 5,
   "metadata": {
    "scrolled": true
   },
   "outputs": [
    {
     "name": "stdout",
     "output_type": "stream",
     "text": [
      " 0.000045, -0.000936,  0.004049, -0.011926,  0.029106, -0.066340,  0.180800,  0.952919, -0.122473,  0.050329, -0.021920,  0.008548, -0.002638,  0.000476, \n",
      " 0.000164, -0.008294,  0.034886, -0.100099,  0.237076, -0.499944,  1.288540, -0.558971, -0.574282,  0.260273, -0.110664,  0.039675, -0.010165,  0.000669, \n",
      " 0.004461, -0.000724, -0.024895,  0.100726, -0.258546,  0.376681,  0.446216, -1.663592,  1.469000, -0.649437,  0.283180, -0.107185,  0.030675, -0.003629, \n",
      "-0.005606,  0.014003, -0.025966,  0.040406, -0.073976,  0.370403, -0.962637,  1.147171, -0.721917,  0.316915, -0.142048,  0.056324, -0.017396,  0.002484, \n"
     ]
    }
   ],
   "source": [
    "print_output(farrow_data, TAPS)"
   ]
  }
 ],
 "metadata": {
  "kernelspec": {
   "display_name": "Python 3",
   "language": "python",
   "name": "python3"
  },
  "language_info": {
   "codemirror_mode": {
    "name": "ipython",
    "version": 3
   },
   "file_extension": ".py",
   "mimetype": "text/x-python",
   "name": "python",
   "nbconvert_exporter": "python",
   "pygments_lexer": "ipython3",
   "version": "3.6.3"
  }
 },
 "nbformat": 4,
 "nbformat_minor": 2
}
